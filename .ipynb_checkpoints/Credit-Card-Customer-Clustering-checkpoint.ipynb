{
 "cells": [
  {
   "cell_type": "markdown",
   "id": "ca4712d4",
   "metadata": {},
   "source": [
    "## Credit Card Customer Clustering"
   ]
  },
  {
   "cell_type": "markdown",
   "id": "6804210a",
   "metadata": {},
   "source": [
    "### Import Libraries"
   ]
  },
  {
   "cell_type": "code",
   "execution_count": 1,
   "id": "1b56a17c",
   "metadata": {},
   "outputs": [
    {
     "name": "stderr",
     "output_type": "stream",
     "text": [
      "C:\\Users\\peter\\Anaconda3\\lib\\site-packages\\dask\\dataframe\\utils.py:14: FutureWarning:\n",
      "\n",
      "pandas.util.testing is deprecated. Use the functions in the public API at pandas.testing instead.\n",
      "\n"
     ]
    }
   ],
   "source": [
    "import pandas as pd      # for data manipulation and analysis\n",
    "import numpy as np       # for numerical computing\n",
    "import matplotlib.pyplot as plt     # for data visualization\n",
    "import matplotlib.dates as mdates   \n",
    "import seaborn as sns    # for advanced data visualization\n",
    "import sklearn           # for machine learning algorithms\n",
    "from sklearn.feature_selection import mutual_info_classif\n",
    "import statsmodels.api as sm        # for statistical models and tests\n",
    "import scipy.stats as stats         # for scientific computing and statistics\n",
    "import random\n",
    "from sklearn.metrics import make_scorer\n",
    "from sklearn.model_selection import StratifiedKFold\n",
    "from sklearn.model_selection import cross_val_score\n",
    "from datetime import datetime\n",
    "\n",
    "# To plot nice figures\n",
    "%matplotlib inline\n",
    "import matplotlib as mpl\n",
    "import matplotlib.pyplot as plt\n",
    "import plotly.graph_objs as go\n",
    "import plotly.offline as py\n",
    "#mpl.rc('axes', labelsize=14)\n",
    "#mpl.rc('xtick', labelsize=12)\n",
    "#mpl.rc('ytick', labelsize=12)\n",
    "\n",
    "from termcolor import colored\n",
    "import pylab\n",
    "from sklearn.impute import SimpleImputer\n",
    "from sklearn.model_selection import train_test_split\n",
    "from sklearn.ensemble import RandomForestRegressor\n",
    "from sklearn.metrics import mean_absolute_error\n",
    "\n",
    "# Models\n",
    "from sklearn.model_selection import train_test_split\n",
    "from sklearn.metrics import mean_squared_error\n",
    "from sklearn.linear_model import LinearRegression\n",
    "from sklearn.ensemble import RandomForestClassifier, RandomForestRegressor, GradientBoostingRegressor, GradientBoostingClassifier, ExtraTreesClassifier, AdaBoostClassifier\n",
    "from sklearn.ensemble import GradientBoostingClassifier\n",
    "from xgboost import XGBClassifier\n",
    "from lightgbm import LGBMClassifier\n",
    "from catboost import CatBoostClassifier\n",
    "from sklearn.linear_model import LogisticRegression\n",
    "import xgboost as xgb"
   ]
  },
  {
   "cell_type": "markdown",
   "id": "0e833d84",
   "metadata": {},
   "source": [
    "### Data information\n",
    "\n",
    "This case requires to develop a customer segmentation to define marketing strategy. The\n",
    "sample Dataset summarizes the usage behavior of about 9000 active credit card holders during the 6 months. The file is at a customer level with 18 behavioral variables.\n",
    "\n",
    "Following is the Data Dictionary for Credit Card dataset :-\n",
    "\n",
    "- **CUST_ID** : Identification of Credit Card holder (Categorical)\n",
    "- **BALANCE** : Balance amount left in their account to make purchases (\n",
    "- **BALANCE_FREQUENCY** : How frequently the Balance is updated, score between 0 and 1 (1 = frequently updated, 0 = not frequently updated)\n",
    "- **PURCHASES** : Amount of purchases made from account\n",
    "- **ONEOFF_PURCHASES** : Maximum purchase amount done in one-go\n",
    "- **INSTALLMENTS_PURCHASES** : Amount of purchase done in installment\n",
    "- **CASH_ADVANCE** : Cash in advance given by the user\n",
    "- **PURCHASES_FREQUENCY** : How frequently the Purchases are being made, score between 0 and 1 (1 = frequently purchased, 0 = not frequently purchased)\n",
    "- **ONEOFFPURCHASESFREQUENCY** : How frequently Purchases are happening in one-go (1 = frequently purchased, 0 = not frequently purchased)\n",
    "- **PURCHASESINSTALLMENTSFREQUENCY** : How frequently purchases in installments are being done (1 = frequently done, 0 = not frequently done)\n",
    "- **CASHADVANCEFREQUENCY** : How frequently the cash in advance being paid\n",
    "- **CASHADVANCETRX** : Number of Transactions made with \"Cash in Advanced\"\n",
    "- **PURCHASES_TRX** : Numbe of purchase transactions made\n",
    "- **CREDIT_LIMIT** : Limit of Credit Card for user\n",
    "- **PAYMENTS** : Amount of Payment done by user\n",
    "- **MINIMUM_PAYMENTS** : Minimum amount of payments made by user\n",
    "- **PRCFULLPAYMENT** : Percent of full payment paid by user\n",
    "- **TENURE** : Tenure of credit card service for user"
   ]
  },
  {
   "cell_type": "code",
   "execution_count": null,
   "id": "a993cc04",
   "metadata": {},
   "outputs": [],
   "source": []
  },
  {
   "cell_type": "code",
   "execution_count": null,
   "id": "e32106ba",
   "metadata": {},
   "outputs": [],
   "source": []
  },
  {
   "cell_type": "code",
   "execution_count": null,
   "id": "2c2bc3ae",
   "metadata": {},
   "outputs": [],
   "source": []
  },
  {
   "cell_type": "code",
   "execution_count": null,
   "id": "00ac6ece",
   "metadata": {},
   "outputs": [],
   "source": []
  }
 ],
 "metadata": {
  "kernelspec": {
   "display_name": "Python 3 (ipykernel)",
   "language": "python",
   "name": "python3"
  },
  "language_info": {
   "codemirror_mode": {
    "name": "ipython",
    "version": 3
   },
   "file_extension": ".py",
   "mimetype": "text/x-python",
   "name": "python",
   "nbconvert_exporter": "python",
   "pygments_lexer": "ipython3",
   "version": "3.7.13"
  }
 },
 "nbformat": 4,
 "nbformat_minor": 5
}
